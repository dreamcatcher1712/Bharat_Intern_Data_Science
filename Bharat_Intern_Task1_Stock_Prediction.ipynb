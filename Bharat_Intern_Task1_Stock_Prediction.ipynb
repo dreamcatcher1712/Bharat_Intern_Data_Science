{
 "cells": [
  {
   "cell_type": "code",
   "execution_count": 2,
   "id": "8fc82275",
   "metadata": {},
   "outputs": [
    {
     "name": "stderr",
     "output_type": "stream",
     "text": [
      "C:\\Users\\ayush\\anaconda3\\lib\\site-packages\\numpy\\_distributor_init.py:30: UserWarning: loaded more than 1 DLL from .libs:\n",
      "C:\\Users\\ayush\\anaconda3\\lib\\site-packages\\numpy\\.libs\\libopenblas64__v0.3.21-gcc_10_3_0.dll\n",
      "C:\\Users\\ayush\\anaconda3\\lib\\site-packages\\numpy\\.libs\\libopenblas64__v0.3.23-246-g3d31191b-gcc_10_3_0.dll\n",
      "  warnings.warn(\"loaded more than 1 DLL from .libs:\"\n",
      "C:\\Users\\ayush\\anaconda3\\lib\\site-packages\\scipy\\__init__.py:146: UserWarning: A NumPy version >=1.16.5 and <1.23.0 is required for this version of SciPy (detected version 1.25.2\n",
      "  warnings.warn(f\"A NumPy version >={np_minversion} and <{np_maxversion}\"\n"
     ]
    }
   ],
   "source": [
    "# importing libraries\n",
    "import numpy as np\n",
    "import math\n",
    "import scipy as sc\n",
    "import pandas_datareader as pdr\n",
    "import pandas as pd\n",
    "from sklearn.preprocessing import MinMaxScaler\n",
    "from keras.models import Sequential\n",
    "from keras.layers import Dense, LSTM\n",
    "import matplotlib.pyplot as plt\n"
   ]
  },
  {
   "cell_type": "code",
   "execution_count": 3,
   "id": "c10659af",
   "metadata": {},
   "outputs": [],
   "source": [
    "import torch\n",
    "import torch.nn as nn"
   ]
  },
  {
   "cell_type": "code",
   "execution_count": 4,
   "id": "2428b864",
   "metadata": {},
   "outputs": [
    {
     "name": "stdout",
     "output_type": "stream",
     "text": [
      "Requirement already satisfied: scipy in c:\\users\\ayush\\anaconda3\\lib\\site-packages (1.7.1)Note: you may need to restart the kernel to use updated packages.\n",
      "Collecting numpy<1.23.0,>=1.16.5\n",
      "  Using cached numpy-1.22.4-cp39-cp39-win_amd64.whl (14.7 MB)\n",
      "Installing collected packages: numpy\n",
      "  Attempting uninstall: numpy\n",
      "    Found existing installation: numpy 1.25.2\n",
      "    Uninstalling numpy-1.25.2:\n",
      "      Successfully uninstalled numpy-1.25.2\n",
      "\n"
     ]
    },
    {
     "name": "stderr",
     "output_type": "stream",
     "text": [
      "ERROR: Could not install packages due to an OSError: [WinError 5] Access is denied: 'C:\\\\Users\\\\ayush\\\\AppData\\\\Local\\\\Temp\\\\pip-uninstall-lo3e2p9u\\\\libopenblas64__v0.3.23-246-g3d31191b-gcc_10_3_0.dll'\n",
      "Consider using the `--user` option or check the permissions.\n",
      "\n"
     ]
    }
   ],
   "source": [
    "pip install scipy"
   ]
  },
  {
   "cell_type": "code",
   "execution_count": 47,
   "id": "bc656bcd",
   "metadata": {},
   "outputs": [
    {
     "name": "stderr",
     "output_type": "stream",
     "text": [
      "C:\\Users\\ayush\\anaconda3\\lib\\site-packages\\pandas_datareader\\tiingo.py:234: FutureWarning: In a future version of pandas all arguments of concat except for the argument 'objs' will be keyword-only\n",
      "  return pd.concat(dfs, self._concat_axis)\n"
     ]
    }
   ],
   "source": [
    "# getting nescafe stock dataset from tiingo using api key\n",
    "key='bab6f11af6d79d58a441608e2b70070d128f2e09'\n",
    "df=pdr.get_data_tiingo('NSRGF', api_key=key)"
   ]
  },
  {
   "cell_type": "code",
   "execution_count": 48,
   "id": "8fd211f0",
   "metadata": {},
   "outputs": [],
   "source": [
    "df = pd.read_csv('NSRGF.csv')"
   ]
  },
  {
   "cell_type": "code",
   "execution_count": 76,
   "id": "586c4b0e",
   "metadata": {},
   "outputs": [
    {
     "name": "stdout",
     "output_type": "stream",
     "text": [
      "<class 'pandas.core.frame.DataFrame'>\n",
      "RangeIndex: 1256 entries, 0 to 1255\n",
      "Data columns (total 14 columns):\n",
      " #   Column       Non-Null Count  Dtype              \n",
      "---  ------       --------------  -----              \n",
      " 0   symbol       1256 non-null   object             \n",
      " 1   date         1256 non-null   datetime64[ns, UTC]\n",
      " 2   close        1256 non-null   float64            \n",
      " 3   high         1256 non-null   float64            \n",
      " 4   low          1256 non-null   float64            \n",
      " 5   open         1256 non-null   float64            \n",
      " 6   volume       1256 non-null   int64              \n",
      " 7   adjClose     1256 non-null   float64            \n",
      " 8   adjHigh      1256 non-null   float64            \n",
      " 9   adjLow       1256 non-null   float64            \n",
      " 10  adjOpen      1256 non-null   float64            \n",
      " 11  adjVolume    1256 non-null   int64              \n",
      " 12  divCash      1256 non-null   float64            \n",
      " 13  splitFactor  1256 non-null   float64            \n",
      "dtypes: datetime64[ns, UTC](1), float64(10), int64(2), object(1)\n",
      "memory usage: 137.5+ KB\n"
     ]
    }
   ],
   "source": [
    "#insights\n",
    "df.info()"
   ]
  },
  {
   "cell_type": "code",
   "execution_count": 50,
   "id": "4d96d17b",
   "metadata": {},
   "outputs": [
    {
     "data": {
      "text/html": [
       "<div>\n",
       "<style scoped>\n",
       "    .dataframe tbody tr th:only-of-type {\n",
       "        vertical-align: middle;\n",
       "    }\n",
       "\n",
       "    .dataframe tbody tr th {\n",
       "        vertical-align: top;\n",
       "    }\n",
       "\n",
       "    .dataframe thead th {\n",
       "        text-align: right;\n",
       "    }\n",
       "</style>\n",
       "<table border=\"1\" class=\"dataframe\">\n",
       "  <thead>\n",
       "    <tr style=\"text-align: right;\">\n",
       "      <th></th>\n",
       "      <th>symbol</th>\n",
       "      <th>date</th>\n",
       "      <th>close</th>\n",
       "      <th>high</th>\n",
       "      <th>low</th>\n",
       "      <th>open</th>\n",
       "      <th>volume</th>\n",
       "      <th>adjClose</th>\n",
       "      <th>adjHigh</th>\n",
       "      <th>adjLow</th>\n",
       "      <th>adjOpen</th>\n",
       "      <th>adjVolume</th>\n",
       "      <th>divCash</th>\n",
       "      <th>splitFactor</th>\n",
       "    </tr>\n",
       "  </thead>\n",
       "  <tbody>\n",
       "    <tr>\n",
       "      <th>0</th>\n",
       "      <td>NSRGF</td>\n",
       "      <td>2018-09-07 00:00:00+00:00</td>\n",
       "      <td>82.9400</td>\n",
       "      <td>83.54</td>\n",
       "      <td>82.57</td>\n",
       "      <td>82.67</td>\n",
       "      <td>3403</td>\n",
       "      <td>73.251077</td>\n",
       "      <td>73.780986</td>\n",
       "      <td>72.924299</td>\n",
       "      <td>73.012618</td>\n",
       "      <td>3403</td>\n",
       "      <td>0.0</td>\n",
       "      <td>1.0</td>\n",
       "    </tr>\n",
       "    <tr>\n",
       "      <th>1</th>\n",
       "      <td>NSRGF</td>\n",
       "      <td>2018-09-10 00:00:00+00:00</td>\n",
       "      <td>83.2100</td>\n",
       "      <td>83.77</td>\n",
       "      <td>83.20</td>\n",
       "      <td>83.20</td>\n",
       "      <td>3085</td>\n",
       "      <td>73.489536</td>\n",
       "      <td>73.984117</td>\n",
       "      <td>73.480704</td>\n",
       "      <td>73.480704</td>\n",
       "      <td>3085</td>\n",
       "      <td>0.0</td>\n",
       "      <td>1.0</td>\n",
       "    </tr>\n",
       "    <tr>\n",
       "      <th>2</th>\n",
       "      <td>NSRGF</td>\n",
       "      <td>2018-09-11 00:00:00+00:00</td>\n",
       "      <td>82.8575</td>\n",
       "      <td>83.37</td>\n",
       "      <td>82.60</td>\n",
       "      <td>82.95</td>\n",
       "      <td>5128</td>\n",
       "      <td>73.178214</td>\n",
       "      <td>73.630845</td>\n",
       "      <td>72.950795</td>\n",
       "      <td>73.259908</td>\n",
       "      <td>5128</td>\n",
       "      <td>0.0</td>\n",
       "      <td>1.0</td>\n",
       "    </tr>\n",
       "    <tr>\n",
       "      <th>3</th>\n",
       "      <td>NSRGF</td>\n",
       "      <td>2018-09-12 00:00:00+00:00</td>\n",
       "      <td>83.4800</td>\n",
       "      <td>84.25</td>\n",
       "      <td>83.17</td>\n",
       "      <td>83.17</td>\n",
       "      <td>5894</td>\n",
       "      <td>73.727995</td>\n",
       "      <td>74.408044</td>\n",
       "      <td>73.454208</td>\n",
       "      <td>73.454208</td>\n",
       "      <td>5894</td>\n",
       "      <td>0.0</td>\n",
       "      <td>1.0</td>\n",
       "    </tr>\n",
       "    <tr>\n",
       "      <th>4</th>\n",
       "      <td>NSRGF</td>\n",
       "      <td>2018-09-13 00:00:00+00:00</td>\n",
       "      <td>84.0600</td>\n",
       "      <td>84.73</td>\n",
       "      <td>83.66</td>\n",
       "      <td>84.73</td>\n",
       "      <td>6285</td>\n",
       "      <td>74.240240</td>\n",
       "      <td>74.831972</td>\n",
       "      <td>73.886967</td>\n",
       "      <td>74.831972</td>\n",
       "      <td>6285</td>\n",
       "      <td>0.0</td>\n",
       "      <td>1.0</td>\n",
       "    </tr>\n",
       "  </tbody>\n",
       "</table>\n",
       "</div>"
      ],
      "text/plain": [
       "  symbol                       date    close   high    low   open  volume  \\\n",
       "0  NSRGF  2018-09-07 00:00:00+00:00  82.9400  83.54  82.57  82.67    3403   \n",
       "1  NSRGF  2018-09-10 00:00:00+00:00  83.2100  83.77  83.20  83.20    3085   \n",
       "2  NSRGF  2018-09-11 00:00:00+00:00  82.8575  83.37  82.60  82.95    5128   \n",
       "3  NSRGF  2018-09-12 00:00:00+00:00  83.4800  84.25  83.17  83.17    5894   \n",
       "4  NSRGF  2018-09-13 00:00:00+00:00  84.0600  84.73  83.66  84.73    6285   \n",
       "\n",
       "    adjClose    adjHigh     adjLow    adjOpen  adjVolume  divCash  splitFactor  \n",
       "0  73.251077  73.780986  72.924299  73.012618       3403      0.0          1.0  \n",
       "1  73.489536  73.984117  73.480704  73.480704       3085      0.0          1.0  \n",
       "2  73.178214  73.630845  72.950795  73.259908       5128      0.0          1.0  \n",
       "3  73.727995  74.408044  73.454208  73.454208       5894      0.0          1.0  \n",
       "4  74.240240  74.831972  73.886967  74.831972       6285      0.0          1.0  "
      ]
     },
     "execution_count": 50,
     "metadata": {},
     "output_type": "execute_result"
    }
   ],
   "source": [
    "df.head()"
   ]
  },
  {
   "cell_type": "code",
   "execution_count": 51,
   "id": "b74fa597",
   "metadata": {},
   "outputs": [
    {
     "data": {
      "text/html": [
       "<div>\n",
       "<style scoped>\n",
       "    .dataframe tbody tr th:only-of-type {\n",
       "        vertical-align: middle;\n",
       "    }\n",
       "\n",
       "    .dataframe tbody tr th {\n",
       "        vertical-align: top;\n",
       "    }\n",
       "\n",
       "    .dataframe thead th {\n",
       "        text-align: right;\n",
       "    }\n",
       "</style>\n",
       "<table border=\"1\" class=\"dataframe\">\n",
       "  <thead>\n",
       "    <tr style=\"text-align: right;\">\n",
       "      <th></th>\n",
       "      <th>close</th>\n",
       "      <th>high</th>\n",
       "      <th>low</th>\n",
       "      <th>open</th>\n",
       "      <th>volume</th>\n",
       "      <th>adjClose</th>\n",
       "      <th>adjHigh</th>\n",
       "      <th>adjLow</th>\n",
       "      <th>adjOpen</th>\n",
       "      <th>adjVolume</th>\n",
       "      <th>divCash</th>\n",
       "      <th>splitFactor</th>\n",
       "    </tr>\n",
       "  </thead>\n",
       "  <tbody>\n",
       "    <tr>\n",
       "      <th>count</th>\n",
       "      <td>1256.000000</td>\n",
       "      <td>1256.000000</td>\n",
       "      <td>1256.000000</td>\n",
       "      <td>1256.000000</td>\n",
       "      <td>1256.000000</td>\n",
       "      <td>1256.000000</td>\n",
       "      <td>1256.000000</td>\n",
       "      <td>1256.000000</td>\n",
       "      <td>1256.000000</td>\n",
       "      <td>1256.000000</td>\n",
       "      <td>1256.000000</td>\n",
       "      <td>1256.0</td>\n",
       "    </tr>\n",
       "    <tr>\n",
       "      <th>mean</th>\n",
       "      <td>112.684967</td>\n",
       "      <td>114.076850</td>\n",
       "      <td>111.667132</td>\n",
       "      <td>112.779662</td>\n",
       "      <td>17862.102707</td>\n",
       "      <td>106.110189</td>\n",
       "      <td>107.426804</td>\n",
       "      <td>105.147141</td>\n",
       "      <td>106.199716</td>\n",
       "      <td>17862.102707</td>\n",
       "      <td>0.011558</td>\n",
       "      <td>1.0</td>\n",
       "    </tr>\n",
       "    <tr>\n",
       "      <th>std</th>\n",
       "      <td>13.258019</td>\n",
       "      <td>13.579441</td>\n",
       "      <td>12.958551</td>\n",
       "      <td>13.278742</td>\n",
       "      <td>53638.949408</td>\n",
       "      <td>15.337263</td>\n",
       "      <td>15.670878</td>\n",
       "      <td>15.039709</td>\n",
       "      <td>15.357563</td>\n",
       "      <td>53638.949408</td>\n",
       "      <td>0.183764</td>\n",
       "      <td>0.0</td>\n",
       "    </tr>\n",
       "    <tr>\n",
       "      <th>min</th>\n",
       "      <td>78.880000</td>\n",
       "      <td>80.020000</td>\n",
       "      <td>78.570000</td>\n",
       "      <td>79.290000</td>\n",
       "      <td>568.000000</td>\n",
       "      <td>69.665360</td>\n",
       "      <td>70.672187</td>\n",
       "      <td>69.391573</td>\n",
       "      <td>70.027464</td>\n",
       "      <td>568.000000</td>\n",
       "      <td>0.000000</td>\n",
       "      <td>1.0</td>\n",
       "    </tr>\n",
       "    <tr>\n",
       "      <th>25%</th>\n",
       "      <td>105.948500</td>\n",
       "      <td>107.250000</td>\n",
       "      <td>105.000000</td>\n",
       "      <td>106.250000</td>\n",
       "      <td>4108.250000</td>\n",
       "      <td>96.723055</td>\n",
       "      <td>97.635114</td>\n",
       "      <td>96.061382</td>\n",
       "      <td>96.761403</td>\n",
       "      <td>4108.250000</td>\n",
       "      <td>0.000000</td>\n",
       "      <td>1.0</td>\n",
       "    </tr>\n",
       "    <tr>\n",
       "      <th>50%</th>\n",
       "      <td>115.327000</td>\n",
       "      <td>116.500000</td>\n",
       "      <td>113.995000</td>\n",
       "      <td>115.312500</td>\n",
       "      <td>6617.000000</td>\n",
       "      <td>109.010517</td>\n",
       "      <td>110.408323</td>\n",
       "      <td>108.041297</td>\n",
       "      <td>108.889625</td>\n",
       "      <td>6617.000000</td>\n",
       "      <td>0.000000</td>\n",
       "      <td>1.0</td>\n",
       "    </tr>\n",
       "    <tr>\n",
       "      <th>75%</th>\n",
       "      <td>121.425500</td>\n",
       "      <td>123.000000</td>\n",
       "      <td>120.260750</td>\n",
       "      <td>121.570075</td>\n",
       "      <td>12393.500000</td>\n",
       "      <td>118.579962</td>\n",
       "      <td>120.022330</td>\n",
       "      <td>117.396602</td>\n",
       "      <td>118.656191</td>\n",
       "      <td>12393.500000</td>\n",
       "      <td>0.000000</td>\n",
       "      <td>1.0</td>\n",
       "    </tr>\n",
       "    <tr>\n",
       "      <th>max</th>\n",
       "      <td>142.040000</td>\n",
       "      <td>143.918000</td>\n",
       "      <td>140.430000</td>\n",
       "      <td>142.860000</td>\n",
       "      <td>848148.000000</td>\n",
       "      <td>135.463932</td>\n",
       "      <td>137.254985</td>\n",
       "      <td>133.928470</td>\n",
       "      <td>136.245968</td>\n",
       "      <td>848148.000000</td>\n",
       "      <td>3.307000</td>\n",
       "      <td>1.0</td>\n",
       "    </tr>\n",
       "  </tbody>\n",
       "</table>\n",
       "</div>"
      ],
      "text/plain": [
       "             close         high          low         open         volume  \\\n",
       "count  1256.000000  1256.000000  1256.000000  1256.000000    1256.000000   \n",
       "mean    112.684967   114.076850   111.667132   112.779662   17862.102707   \n",
       "std      13.258019    13.579441    12.958551    13.278742   53638.949408   \n",
       "min      78.880000    80.020000    78.570000    79.290000     568.000000   \n",
       "25%     105.948500   107.250000   105.000000   106.250000    4108.250000   \n",
       "50%     115.327000   116.500000   113.995000   115.312500    6617.000000   \n",
       "75%     121.425500   123.000000   120.260750   121.570075   12393.500000   \n",
       "max     142.040000   143.918000   140.430000   142.860000  848148.000000   \n",
       "\n",
       "          adjClose      adjHigh       adjLow      adjOpen      adjVolume  \\\n",
       "count  1256.000000  1256.000000  1256.000000  1256.000000    1256.000000   \n",
       "mean    106.110189   107.426804   105.147141   106.199716   17862.102707   \n",
       "std      15.337263    15.670878    15.039709    15.357563   53638.949408   \n",
       "min      69.665360    70.672187    69.391573    70.027464     568.000000   \n",
       "25%      96.723055    97.635114    96.061382    96.761403    4108.250000   \n",
       "50%     109.010517   110.408323   108.041297   108.889625    6617.000000   \n",
       "75%     118.579962   120.022330   117.396602   118.656191   12393.500000   \n",
       "max     135.463932   137.254985   133.928470   136.245968  848148.000000   \n",
       "\n",
       "           divCash  splitFactor  \n",
       "count  1256.000000       1256.0  \n",
       "mean      0.011558          1.0  \n",
       "std       0.183764          0.0  \n",
       "min       0.000000          1.0  \n",
       "25%       0.000000          1.0  \n",
       "50%       0.000000          1.0  \n",
       "75%       0.000000          1.0  \n",
       "max       3.307000          1.0  "
      ]
     },
     "execution_count": 51,
     "metadata": {},
     "output_type": "execute_result"
    }
   ],
   "source": [
    "df.describe()"
   ]
  },
  {
   "cell_type": "code",
   "execution_count": 52,
   "id": "ccd1edb6",
   "metadata": {},
   "outputs": [
    {
     "data": {
      "text/plain": [
       "symbol         0\n",
       "date           0\n",
       "close          0\n",
       "high           0\n",
       "low            0\n",
       "open           0\n",
       "volume         0\n",
       "adjClose       0\n",
       "adjHigh        0\n",
       "adjLow         0\n",
       "adjOpen        0\n",
       "adjVolume      0\n",
       "divCash        0\n",
       "splitFactor    0\n",
       "dtype: int64"
      ]
     },
     "execution_count": 52,
     "metadata": {},
     "output_type": "execute_result"
    }
   ],
   "source": [
    "df.isnull().sum()"
   ]
  },
  {
   "cell_type": "code",
   "execution_count": 53,
   "id": "696c3da6",
   "metadata": {},
   "outputs": [],
   "source": [
    "#filtering out required fields\n",
    "data=df[['date','close']]"
   ]
  },
  {
   "cell_type": "code",
   "execution_count": 54,
   "id": "7956eec9",
   "metadata": {},
   "outputs": [
    {
     "data": {
      "image/png": "[encoded data removed]",
      "text/plain": [
       "<Figure size 1152x576 with 1 Axes>"
      ]
     },
     "metadata": {
      "needs_background": "light"
     },
     "output_type": "display_data"
    }
   ],
   "source": [
    "#plotting the graph between date and close for data visualisation\n",
    "import matplotlib.dates as mdates \n",
    "df['date'] = pd.to_datetime(df['date'])\n",
    "plt.figure(figsize=(16,8))\n",
    "plt.title('Close Price')\n",
    "plt.plot(df['date'],df['close'])\n",
    "plt.xlabel('Date', fontsize=18)\n",
    "plt.ylabel('Close Price ($)', fontsize=18)\n",
    "years = mdates.YearLocator()  \n",
    "date_format = mdates.DateFormatter('%Y')  \n",
    "plt.gca().xaxis.set_major_locator(years)\n",
    "plt.gca().xaxis.set_major_formatter(date_format)\n",
    "plt.xticks(rotation=45)\n",
    "plt.show()"
   ]
  },
  {
   "cell_type": "code",
   "execution_count": 55,
   "id": "202310cc",
   "metadata": {},
   "outputs": [
    {
     "data": {
      "text/plain": [
       "1005"
      ]
     },
     "execution_count": 55,
     "metadata": {},
     "output_type": "execute_result"
    }
   ],
   "source": [
    "data=df.filter(['close'])\n",
    "dataset = data.values\n",
    "training_data_len=math.ceil(len(dataset) * .8)\n",
    "training_data_len"
   ]
  },
  {
   "cell_type": "code",
   "execution_count": 56,
   "id": "2d4afebb",
   "metadata": {},
   "outputs": [
    {
     "data": {
      "text/plain": [
       "array([[0.06428119],\n",
       "       [0.06855605],\n",
       "       [0.06297498],\n",
       "       ...,\n",
       "       [0.65310323],\n",
       "       [0.64031032],\n",
       "       [0.6010133 ]])"
      ]
     },
     "execution_count": 56,
     "metadata": {},
     "output_type": "execute_result"
    }
   ],
   "source": [
    "#normalization\n",
    "scaler = MinMaxScaler(feature_range=(0,1))\n",
    "scaled_data = scaler.fit_transform(dataset)\n",
    "scaled_data"
   ]
  },
  {
   "cell_type": "code",
   "execution_count": 57,
   "id": "24b90df6",
   "metadata": {},
   "outputs": [
    {
     "name": "stdout",
     "output_type": "stream",
     "text": [
      "[array([0.06428119, 0.06855605, 0.06297498, 0.07283091, 0.08201393,\n",
      "       0.07837239, 0.07568081, 0.07552248, 0.05921469, 0.08233059,\n",
      "       0.08264725, 0.05873971, 0.06032299, 0.07314756, 0.06649778,\n",
      "       0.06792274, 0.07124763, 0.069981  , 0.08454718, 0.05288157,\n",
      "       0.03863205, 0.03546548, 0.03594047, 0.03910703, 0.        ,\n",
      "       0.01155795, 0.01029132, 0.02929069, 0.00934136, 0.010133  ,\n",
      "       0.06127296, 0.07425586, 0.05636479, 0.08787207, 0.07884737,\n",
      "       0.07568081, 0.06348955, 0.08533882, 0.07868904, 0.08898037,\n",
      "       0.07963901, 0.08090564, 0.07948068, 0.0880304 , 0.08533882,\n",
      "       0.09848005, 0.08755541, 0.08549715, 0.07742242, 0.07473084,\n",
      "       0.08898037, 0.07884737, 0.07805573, 0.08898037, 0.09515516,\n",
      "       0.08787207, 0.08771374, 0.09927169, 0.09832172, 0.10465484])]\n",
      "[0.10291323622545923]\n"
     ]
    }
   ],
   "source": [
    "#training data\n",
    "train_data=scaled_data[0:training_data_len , :]\n",
    "train_x = []\n",
    "train_y = []\n",
    "for i in range(60, len(train_data)):\n",
    "    train_x.append(train_data[i-60:i,0])\n",
    "    train_y.append(train_data[i, 0])\n",
    "    if i<=60:\n",
    "        print(train_x)\n",
    "        print(train_y)"
   ]
  },
  {
   "cell_type": "code",
   "execution_count": 58,
   "id": "0c498187",
   "metadata": {},
   "outputs": [],
   "source": [
    "train_x, train_y = np.array(train_x), np.array(train_y)"
   ]
  },
  {
   "cell_type": "code",
   "execution_count": 59,
   "id": "d17d66f3",
   "metadata": {},
   "outputs": [
    {
     "data": {
      "text/plain": [
       "(945, 60, 1)"
      ]
     },
     "execution_count": 59,
     "metadata": {},
     "output_type": "execute_result"
    }
   ],
   "source": [
    "train_x=np.reshape(train_x, (train_x.shape[0], train_x.shape[1], 1))\n",
    "train_x.shape"
   ]
  },
  {
   "cell_type": "code",
   "execution_count": 60,
   "id": "c3578111",
   "metadata": {},
   "outputs": [],
   "source": [
    "#building the lstm model\n",
    "model = Sequential()\n",
    "model.add(LSTM(50, return_sequences=True, input_shape=(train_x.shape[1], 1 )))\n",
    "model.add(LSTM(50, return_sequences=False))\n",
    "model.add(Dense(25))\n",
    "model.add(Dense(1))"
   ]
  },
  {
   "cell_type": "code",
   "execution_count": 61,
   "id": "62c6c4b4",
   "metadata": {},
   "outputs": [],
   "source": [
    "model.compile(optimizer='adam', loss='mse')"
   ]
  },
  {
   "cell_type": "code",
   "execution_count": 62,
   "id": "5ccea548",
   "metadata": {},
   "outputs": [
    {
     "name": "stdout",
     "output_type": "stream",
     "text": [
      "945/945 [==============================] - 23s 20ms/step - loss: 0.0040\n"
     ]
    },
    {
     "data": {
      "text/plain": [
       "<keras.src.callbacks.History at 0x210e5d743a0>"
      ]
     },
     "execution_count": 62,
     "metadata": {},
     "output_type": "execute_result"
    }
   ],
   "source": [
    "model.fit(train_x, train_y, batch_size=1, epochs=1)"
   ]
  },
  {
   "cell_type": "code",
   "execution_count": 63,
   "id": "973893bb",
   "metadata": {},
   "outputs": [],
   "source": [
    "#testing data\n",
    "test_data = scaled_data[training_data_len-60: , :]\n",
    "test_x=[]\n",
    "test_y=dataset[training_data_len:, :]\n",
    "for i in range(60, len(test_data)):\n",
    "    test_x.append(test_data[i-60:i, 0])\n",
    "    "
   ]
  },
  {
   "cell_type": "code",
   "execution_count": 64,
   "id": "cfadb4af",
   "metadata": {},
   "outputs": [],
   "source": [
    "test_x=np.array(test_x)"
   ]
  },
  {
   "cell_type": "code",
   "execution_count": 65,
   "id": "0832f427",
   "metadata": {},
   "outputs": [],
   "source": [
    "test_x=np.reshape(test_x, (test_x.shape[0], test_x.shape[1], 1))"
   ]
  },
  {
   "cell_type": "code",
   "execution_count": 66,
   "id": "3f1e1744",
   "metadata": {},
   "outputs": [
    {
     "name": "stdout",
     "output_type": "stream",
     "text": [
      "8/8 [==============================] - 1s 13ms/step\n"
     ]
    }
   ],
   "source": [
    "#predicting using trained model\n",
    "predictions=model.predict(test_x)\n",
    "predictions=scaler.inverse_transform(predictions)"
   ]
  },
  {
   "cell_type": "code",
   "execution_count": 70,
   "id": "f1ee1949",
   "metadata": {},
   "outputs": [
    {
     "data": {
      "text/plain": [
       "1.4066133454463396"
      ]
     },
     "execution_count": 70,
     "metadata": {},
     "output_type": "execute_result"
    }
   ],
   "source": [
    "#checking values like root mean square and mean absolute error\n",
    "rmse=np.sqrt(np.mean(predictions - test_y)**2)\n",
    "rmse"
   ]
  },
  {
   "cell_type": "code",
   "execution_count": 71,
   "id": "bf6d1072",
   "metadata": {},
   "outputs": [
    {
     "data": {
      "text/plain": [
       "2.0571805371288288"
      ]
     },
     "execution_count": 71,
     "metadata": {},
     "output_type": "execute_result"
    }
   ],
   "source": [
    "from sklearn.metrics import mean_absolute_error\n",
    "mae = mean_absolute_error(test_y, predictions)\n",
    "mae"
   ]
  },
  {
   "cell_type": "code",
   "execution_count": 72,
   "id": "786a5591",
   "metadata": {},
   "outputs": [],
   "source": [
    "data=df[['date','close']]"
   ]
  },
  {
   "cell_type": "code",
   "execution_count": 73,
   "id": "cb57040d",
   "metadata": {},
   "outputs": [
    {
     "name": "stderr",
     "output_type": "stream",
     "text": [
      "C:\\Users\\ayush\\AppData\\Local\\Temp/ipykernel_7120/1878946591.py:4: SettingWithCopyWarning: \n",
      "A value is trying to be set on a copy of a slice from a DataFrame.\n",
      "Try using .loc[row_indexer,col_indexer] = value instead\n",
      "\n",
      "See the caveats in the documentation: https://pandas.pydata.org/pandas-docs/stable/user_guide/indexing.html#returning-a-view-versus-a-copy\n",
      "  valid['Predictions']=predictions\n"
     ]
    },
    {
     "data": {
      "image/png": "[encoded data removed]",
      "text/plain": [
       "<Figure size 1152x576 with 1 Axes>"
      ]
     },
     "metadata": {
      "needs_background": "light"
     },
     "output_type": "display_data"
    }
   ],
   "source": [
    "#plotting the trained and predicted data\n",
    "import matplotlib.dates as mdates\n",
    "train = data[:training_data_len]\n",
    "valid=data[training_data_len:]\n",
    "valid['Predictions']=predictions\n",
    "plt.figure(figsize=(16,8))\n",
    "plt.title('Model')\n",
    "plt.xlabel('Date', fontsize=18)\n",
    "plt.ylabel('Close Price ($)', fontsize=18)\n",
    "years = mdates.YearLocator()\n",
    "date_format = mdates.DateFormatter('%Y')\n",
    "plt.gca().xaxis.set_major_locator(years)\n",
    "plt.gca().xaxis.set_major_formatter(date_format)\n",
    "\n",
    "plt.plot(train['date'], train['close'], label='Train')\n",
    "plt.plot(valid['date'], valid['close'], label='Val')\n",
    "plt.plot(valid['date'], valid['Predictions'], label='Predictions')\n",
    "plt.legend(['Train', 'Val', 'Predictions'], loc='lower right')\n",
    "plt.xticks(rotation=45)\n",
    "plt.show()"
   ]
  },
  {
   "cell_type": "code",
   "execution_count": 74,
   "id": "62841125",
   "metadata": {},
   "outputs": [
    {
     "data": {
      "text/html": [
       "<div>\n",
       "<style scoped>\n",
       "    .dataframe tbody tr th:only-of-type {\n",
       "        vertical-align: middle;\n",
       "    }\n",
       "\n",
       "    .dataframe tbody tr th {\n",
       "        vertical-align: top;\n",
       "    }\n",
       "\n",
       "    .dataframe thead th {\n",
       "        text-align: right;\n",
       "    }\n",
       "</style>\n",
       "<table border=\"1\" class=\"dataframe\">\n",
       "  <thead>\n",
       "    <tr style=\"text-align: right;\">\n",
       "      <th></th>\n",
       "      <th>date</th>\n",
       "      <th>close</th>\n",
       "      <th>Predictions</th>\n",
       "    </tr>\n",
       "  </thead>\n",
       "  <tbody>\n",
       "    <tr>\n",
       "      <th>1005</th>\n",
       "      <td>2022-09-06 00:00:00+00:00</td>\n",
       "      <td>115.250</td>\n",
       "      <td>116.200874</td>\n",
       "    </tr>\n",
       "    <tr>\n",
       "      <th>1006</th>\n",
       "      <td>2022-09-07 00:00:00+00:00</td>\n",
       "      <td>113.645</td>\n",
       "      <td>115.538933</td>\n",
       "    </tr>\n",
       "    <tr>\n",
       "      <th>1007</th>\n",
       "      <td>2022-09-08 00:00:00+00:00</td>\n",
       "      <td>113.405</td>\n",
       "      <td>114.855408</td>\n",
       "    </tr>\n",
       "    <tr>\n",
       "      <th>1008</th>\n",
       "      <td>2022-09-09 00:00:00+00:00</td>\n",
       "      <td>116.600</td>\n",
       "      <td>114.222153</td>\n",
       "    </tr>\n",
       "    <tr>\n",
       "      <th>1009</th>\n",
       "      <td>2022-09-12 00:00:00+00:00</td>\n",
       "      <td>116.870</td>\n",
       "      <td>114.046989</td>\n",
       "    </tr>\n",
       "    <tr>\n",
       "      <th>...</th>\n",
       "      <td>...</td>\n",
       "      <td>...</td>\n",
       "      <td>...</td>\n",
       "    </tr>\n",
       "    <tr>\n",
       "      <th>1251</th>\n",
       "      <td>2023-08-29 00:00:00+00:00</td>\n",
       "      <td>121.960</td>\n",
       "      <td>117.699478</td>\n",
       "    </tr>\n",
       "    <tr>\n",
       "      <th>1252</th>\n",
       "      <td>2023-08-30 00:00:00+00:00</td>\n",
       "      <td>120.816</td>\n",
       "      <td>118.224030</td>\n",
       "    </tr>\n",
       "    <tr>\n",
       "      <th>1253</th>\n",
       "      <td>2023-08-31 00:00:00+00:00</td>\n",
       "      <td>120.130</td>\n",
       "      <td>118.615906</td>\n",
       "    </tr>\n",
       "    <tr>\n",
       "      <th>1254</th>\n",
       "      <td>2023-09-01 00:00:00+00:00</td>\n",
       "      <td>119.322</td>\n",
       "      <td>118.817802</td>\n",
       "    </tr>\n",
       "    <tr>\n",
       "      <th>1255</th>\n",
       "      <td>2023-09-05 00:00:00+00:00</td>\n",
       "      <td>116.840</td>\n",
       "      <td>118.806114</td>\n",
       "    </tr>\n",
       "  </tbody>\n",
       "</table>\n",
       "<p>251 rows × 3 columns</p>\n",
       "</div>"
      ],
      "text/plain": [
       "                          date    close  Predictions\n",
       "1005 2022-09-06 00:00:00+00:00  115.250   116.200874\n",
       "1006 2022-09-07 00:00:00+00:00  113.645   115.538933\n",
       "1007 2022-09-08 00:00:00+00:00  113.405   114.855408\n",
       "1008 2022-09-09 00:00:00+00:00  116.600   114.222153\n",
       "1009 2022-09-12 00:00:00+00:00  116.870   114.046989\n",
       "...                        ...      ...          ...\n",
       "1251 2023-08-29 00:00:00+00:00  121.960   117.699478\n",
       "1252 2023-08-30 00:00:00+00:00  120.816   118.224030\n",
       "1253 2023-08-31 00:00:00+00:00  120.130   118.615906\n",
       "1254 2023-09-01 00:00:00+00:00  119.322   118.817802\n",
       "1255 2023-09-05 00:00:00+00:00  116.840   118.806114\n",
       "\n",
       "[251 rows x 3 columns]"
      ]
     },
     "execution_count": 74,
     "metadata": {},
     "output_type": "execute_result"
    }
   ],
   "source": [
    "#checking predicted data with actually close data\n",
    "valid"
   ]
  },
  {
   "cell_type": "code",
   "execution_count": null,
   "id": "d5ecd58b",
   "metadata": {},
   "outputs": [],
   "source": []
  }
 ],
 "metadata": {
  "kernelspec": {
   "display_name": "Python 3 (ipykernel)",
   "language": "python",
   "name": "python3"
  },
  "language_info": {
   "codemirror_mode": {
    "name": "ipython",
    "version": 3
   },
   "file_extension": ".py",
   "mimetype": "text/x-python",
   "name": "python",
   "nbconvert_exporter": "python",
   "pygments_lexer": "ipython3",
   "version": "3.9.7"
  }
 },
 "nbformat": 4,
 "nbformat_minor": 5
}
